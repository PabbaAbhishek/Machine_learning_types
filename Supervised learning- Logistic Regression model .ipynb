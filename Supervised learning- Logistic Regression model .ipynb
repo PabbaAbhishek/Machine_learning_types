{
 "cells": [
  {
   "cell_type": "markdown",
   "metadata": {},
   "source": [
    "# Supervised learning- Logistic Regression model "
   ]
  },
  
  {
   "cell_type": "markdown",
   "metadata": {},
   "source": [
    "1) For deploying a logistic rgeression model, following packages should be installed and imported"
   ]
  },
  {
   "cell_type": "code",
   "execution_count": 12,
   "metadata": {},
   "outputs": [],
   "source": [
    "import pandas as pd\n",
    "from sklearn.linear_model import LogisticRegression\n",
    "from sklearn.model_selection import train_test_split"
   ]
  },
  {
   "cell_type": "markdown",
   "metadata": {},
   "source": [
    "2) Get data and describe features and target variables"
   ]
  },
  {
   "cell_type": "code",
   "execution_count": 17,
   "metadata": {},
   "outputs": [
    {
     "name": "stdout",
     "output_type": "stream",
     "text": [
      "   pregnant  glucose  bp  skin  insulin   bmi  pedigree  age  label\n",
      "0         6      148  72    35        0  33.6     0.627   50      1\n",
      "1         1       85  66    29        0  26.6     0.351   31      0\n",
      "2         8      183  64     0        0  23.3     0.672   32      1\n",
      "3         1       89  66    23       94  28.1     0.167   21      0\n",
      "4         0      137  40    35      168  43.1     2.288   33      1\n"
     ]
    }
   ],
   "source": [
    "diabetes= pd.read_csv(r\"C:\\Users\\Pabba Abhishek\\Desktop\\MSRF\\diabetes.csv\")\n",
    "print(diabetes.head())\n",
    "feature_cols = ['pregnant', 'insulin', 'bmi', 'age','glucose','bp','pedigree']\n",
    "x = diabetes[feature_cols] # Features\n",
    "y = diabetes.label # Target variable"
   ]
  },
  {
   "cell_type": "markdown",
   "metadata": {},
   "source": [
    "3) Splitting the datasets for testing and training"
   ]
  },
  {
   "cell_type": "code",
   "execution_count": 14,
   "metadata": {},
   "outputs": [],
   "source": [
    "x_train,x_test,y_train,y_test=train_test_split(x,y,test_size=0.25,random_state=0)"
   ]
  },
  {
   "cell_type": "markdown",
   "metadata": {},
   "source": [
    "4) Create a model and train it with the data"
   ]
  },
  {
   "cell_type": "code",
   "execution_count": 15,
   "metadata": {},
   "outputs": [
    {
     "name": "stderr",
     "output_type": "stream",
     "text": [
      ]
    },
    {
     "data": {
      "text/plain": [
       "LogisticRegression()"
      ]
     },
     "execution_count": 15,
     "metadata": {},
     "output_type": "execute_result"
    }
   ],
   "source": [
    "model=LogisticRegression()\n",
    "model.fit(x_train,y_train)"
   ]
  },
  {
   "cell_type": "markdown",
   "metadata": {},
   "source": [
    "5) Evaluate the model:"
   ]
  },
  {
   "cell_type": "code",
   "execution_count": 16,
   "metadata": {},
   "outputs": [
    {
     "data": {
      "text/plain": [
       "0.8072916666666666"
      ]
     },
     "execution_count": 16,
     "metadata": {},
     "output_type": "execute_result"
    }
   ],
   "source": [
    "model.score(X_test,y_test)"
   ]
  },
  {
   "cell_type": "markdown",
   "metadata": {},
   "source": [
    "The above code is an example logistic regression model deployed using scikit-learn. Being supervised learning, logistic regression model requires features and target columns, here given as x and y. To check the accuracy of the prediction, the data is split into test and train and the train data is used to train the model. Then, the test data is used to find the prediction accuracy. Here, the score is ~81% indicating, the prediction is ~81% accurate."
   ]
  },
  {
   "cell_type": "code",
   "execution_count": null,
   "metadata": {},
   "outputs": [],
   "source": []
  }
 ],
 "metadata": {
  "kernelspec": {
   "display_name": "Python 3",
   "language": "python",
   "name": "python3"
  },
  "language_info": {
   "codemirror_mode": {
    "name": "ipython",
    "version": 3
   },
   "file_extension": ".py",
   "mimetype": "text/x-python",
   "name": "python",
   "nbconvert_exporter": "python",
   "pygments_lexer": "ipython3",
   "version": "3.8.5"
  }
 },
 "nbformat": 4,
 "nbformat_minor": 4
}
